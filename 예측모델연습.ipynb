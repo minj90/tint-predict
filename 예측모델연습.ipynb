{
 "cells": [
  {
   "cell_type": "markdown",
   "id": "f23b6a75",
   "metadata": {},
   "source": [
    "## 예측 모델 연습하기"
   ]
  },
  {
   "cell_type": "markdown",
   "id": "03b13180",
   "metadata": {},
   "source": [
    "### 필요한 코드 가져오기"
   ]
  },
  {
   "cell_type": "code",
   "execution_count": 1,
   "id": "4e23e986",
   "metadata": {},
   "outputs": [
    {
     "name": "stdout",
     "output_type": "stream",
     "text": [
      "WARNING:tensorflow:From C:\\Users\\학생\\AppData\\Local\\Packages\\PythonSoftwareFoundation.Python.3.11_qbz5n2kfra8p0\\LocalCache\\local-packages\\Python311\\site-packages\\keras\\src\\losses.py:2976: The name tf.losses.sparse_softmax_cross_entropy is deprecated. Please use tf.compat.v1.losses.sparse_softmax_cross_entropy instead.\n",
      "\n"
     ]
    }
   ],
   "source": [
    "import pandas as pd\n",
    "import numpy as np\n",
    "import matplotlib.pyplot as plt\n",
    "import seaborn as sns\n",
    "\n",
    "from  datetime import datetime, timedelta\n",
    "from tensorflow.keras.models import load_model"
   ]
  },
  {
   "cell_type": "code",
   "execution_count": 2,
   "id": "8a9a6b4a",
   "metadata": {},
   "outputs": [],
   "source": [
    "import tensorflow as tf"
   ]
  },
  {
   "cell_type": "code",
   "execution_count": 3,
   "id": "92e38092",
   "metadata": {},
   "outputs": [
    {
     "name": "stdout",
     "output_type": "stream",
     "text": [
      "WARNING:tensorflow:From C:\\Users\\학생\\AppData\\Local\\Packages\\PythonSoftwareFoundation.Python.3.11_qbz5n2kfra8p0\\LocalCache\\local-packages\\Python311\\site-packages\\keras\\src\\backend.py:1398: The name tf.executing_eagerly_outside_functions is deprecated. Please use tf.compat.v1.executing_eagerly_outside_functions instead.\n",
      "\n",
      "WARNING:tensorflow:From C:\\Users\\학생\\AppData\\Local\\Packages\\PythonSoftwareFoundation.Python.3.11_qbz5n2kfra8p0\\LocalCache\\local-packages\\Python311\\site-packages\\keras\\src\\optimizers\\__init__.py:309: The name tf.train.Optimizer is deprecated. Please use tf.compat.v1.train.Optimizer instead.\n",
      "\n"
     ]
    }
   ],
   "source": [
    "# 사전 로딩된 LSTM 모델 불러오기\n",
    "model = load_model('./new_model/29-0.7149.keras')"
   ]
  },
  {
   "cell_type": "markdown",
   "id": "8f648b6d",
   "metadata": {},
   "source": [
    "### 사용자가 입력한 데이터"
   ]
  },
  {
   "cell_type": "code",
   "execution_count": 4,
   "id": "e5fdc3c1",
   "metadata": {},
   "outputs": [],
   "source": [
    "# 만약 사용자가 날짜, 발주수량을 3일치 입력한다고 가정한다.\n",
    "\n",
    "orders = [\n",
    "    {\"date\" : \"2025-04-10\", \"qty\" : 200},\n",
    "    {\"date\" : \"2025-04-09\", \"qty\" : 500},\n",
    "    {\"date\" : \"2025-04-11\", \"qty\" : 100}\n",
    "]\n",
    "\n",
    "# 날짜는 반드시 'YYYY=MM-DD' 문자열로 입력해야 한다."
   ]
  },
  {
   "cell_type": "markdown",
   "id": "c583eb3b",
   "metadata": {},
   "source": [
    "#### 데이터 변환 함수"
   ]
  },
  {
   "cell_type": "code",
   "execution_count": 5,
   "id": "9a33baed",
   "metadata": {},
   "outputs": [
    {
     "data": {
      "text/html": [
       "<div>\n",
       "<style scoped>\n",
       "    .dataframe tbody tr th:only-of-type {\n",
       "        vertical-align: middle;\n",
       "    }\n",
       "\n",
       "    .dataframe tbody tr th {\n",
       "        vertical-align: top;\n",
       "    }\n",
       "\n",
       "    .dataframe thead th {\n",
       "        text-align: right;\n",
       "    }\n",
       "</style>\n",
       "<table border=\"1\" class=\"dataframe\">\n",
       "  <thead>\n",
       "    <tr style=\"text-align: right;\">\n",
       "      <th></th>\n",
       "      <th>date</th>\n",
       "      <th>qty</th>\n",
       "    </tr>\n",
       "  </thead>\n",
       "  <tbody>\n",
       "    <tr>\n",
       "      <th>0</th>\n",
       "      <td>2025-04-10</td>\n",
       "      <td>200</td>\n",
       "    </tr>\n",
       "    <tr>\n",
       "      <th>1</th>\n",
       "      <td>2025-04-09</td>\n",
       "      <td>500</td>\n",
       "    </tr>\n",
       "    <tr>\n",
       "      <th>2</th>\n",
       "      <td>2025-04-11</td>\n",
       "      <td>100</td>\n",
       "    </tr>\n",
       "  </tbody>\n",
       "</table>\n",
       "</div>"
      ],
      "text/plain": [
       "         date  qty\n",
       "0  2025-04-10  200\n",
       "1  2025-04-09  500\n",
       "2  2025-04-11  100"
      ]
     },
     "execution_count": 5,
     "metadata": {},
     "output_type": "execute_result"
    }
   ],
   "source": [
    "pd.DataFrame(orders)"
   ]
  },
  {
   "cell_type": "code",
   "execution_count": 6,
   "id": "fc3df93d",
   "metadata": {},
   "outputs": [
    {
     "data": {
      "text/plain": [
       "0   2025-04-10\n",
       "1   2025-04-09\n",
       "2   2025-04-11\n",
       "Name: date, dtype: datetime64[ns]"
      ]
     },
     "execution_count": 6,
     "metadata": {},
     "output_type": "execute_result"
    }
   ],
   "source": [
    "df = pd.DataFrame(orders)\n",
    "df['date'] = pd.to_datetime(df['date'])\n",
    "df['date']"
   ]
  },
  {
   "cell_type": "code",
   "execution_count": 7,
   "id": "b1c3216c",
   "metadata": {},
   "outputs": [
    {
     "data": {
      "text/html": [
       "<div>\n",
       "<style scoped>\n",
       "    .dataframe tbody tr th:only-of-type {\n",
       "        vertical-align: middle;\n",
       "    }\n",
       "\n",
       "    .dataframe tbody tr th {\n",
       "        vertical-align: top;\n",
       "    }\n",
       "\n",
       "    .dataframe thead th {\n",
       "        text-align: right;\n",
       "    }\n",
       "</style>\n",
       "<table border=\"1\" class=\"dataframe\">\n",
       "  <thead>\n",
       "    <tr style=\"text-align: right;\">\n",
       "      <th></th>\n",
       "      <th>date</th>\n",
       "      <th>qty</th>\n",
       "    </tr>\n",
       "  </thead>\n",
       "  <tbody>\n",
       "    <tr>\n",
       "      <th>1</th>\n",
       "      <td>2025-04-09</td>\n",
       "      <td>500</td>\n",
       "    </tr>\n",
       "    <tr>\n",
       "      <th>0</th>\n",
       "      <td>2025-04-10</td>\n",
       "      <td>200</td>\n",
       "    </tr>\n",
       "    <tr>\n",
       "      <th>2</th>\n",
       "      <td>2025-04-11</td>\n",
       "      <td>100</td>\n",
       "    </tr>\n",
       "  </tbody>\n",
       "</table>\n",
       "</div>"
      ],
      "text/plain": [
       "        date  qty\n",
       "1 2025-04-09  500\n",
       "0 2025-04-10  200\n",
       "2 2025-04-11  100"
      ]
     },
     "execution_count": 7,
     "metadata": {},
     "output_type": "execute_result"
    }
   ],
   "source": [
    "df = df.sort_values(by='date')\n",
    "df"
   ]
  },
  {
   "cell_type": "code",
   "execution_count": 8,
   "id": "2b5af32f",
   "metadata": {},
   "outputs": [
    {
     "data": {
      "text/plain": [
       "Timestamp('2025-04-11 00:00:00')"
      ]
     },
     "execution_count": 8,
     "metadata": {},
     "output_type": "execute_result"
    }
   ],
   "source": [
    "# 가장 마지막 날짜 구하기\n",
    "latest_date = df['date'].max()\n",
    "latest_date"
   ]
  },
  {
   "cell_type": "code",
   "execution_count": 9,
   "id": "6e80ef6b",
   "metadata": {},
   "outputs": [
    {
     "data": {
      "text/plain": [
       "range(2, -1, -1)"
      ]
     },
     "execution_count": 9,
     "metadata": {},
     "output_type": "execute_result"
    }
   ],
   "source": [
    "lookback_days = 3 # LSTM이 과거 3일 데이터를 입력으로 사용(즉, 타임스텝 3)\n",
    "range(lookback_days -1, -1, -1) # 2에서 -1까지(불포함) -1씩 감소 => 결과 [2,1,0]\n",
    "\n",
    "# 최근 날짜에서 2일전 -> 1일전 -> 당일 순서로 반복"
   ]
  },
  {
   "cell_type": "code",
   "execution_count": 10,
   "id": "1a56ad48",
   "metadata": {},
   "outputs": [
    {
     "name": "stdout",
     "output_type": "stream",
     "text": [
      "기준일(당일) 2025-04-11 00:00:00\n",
      "하루전 2025-04-10 00:00:00\n",
      "2일전 2025-04-09 00:00:00\n"
     ]
    }
   ],
   "source": [
    "# timedelta(days = i)로 날짜 차이 계산\n",
    "\n",
    "print(\"기준일(당일)\", latest_date - timedelta(0))\n",
    "print(\"하루전\", latest_date - timedelta(days=1))\n",
    "print(\"2일전\", latest_date - timedelta(2))"
   ]
  },
  {
   "cell_type": "code",
   "execution_count": 11,
   "id": "806fa08e",
   "metadata": {},
   "outputs": [
    {
     "data": {
      "text/plain": [
       "[Timestamp('2025-04-09 00:00:00'),\n",
       " Timestamp('2025-04-10 00:00:00'),\n",
       " Timestamp('2025-04-11 00:00:00')]"
      ]
     },
     "execution_count": 11,
     "metadata": {},
     "output_type": "execute_result"
    }
   ],
   "source": [
    "# 이 코드는 LSTM 모델에서 예측을 위한 시계열 입력을 구성하기 위해 \"3일치 날짜를 최근 날짜 기준으로 거꾸로 생성\"\n",
    "date_range = [latest_date - timedelta(days=i) for i in range(lookback_days -1,-1,-1)]\n",
    "date_range"
   ]
  },
  {
   "cell_type": "code",
   "execution_count": 12,
   "id": "1d559cba",
   "metadata": {},
   "outputs": [
    {
     "data": {
      "text/html": [
       "<div>\n",
       "<style scoped>\n",
       "    .dataframe tbody tr th:only-of-type {\n",
       "        vertical-align: middle;\n",
       "    }\n",
       "\n",
       "    .dataframe tbody tr th {\n",
       "        vertical-align: top;\n",
       "    }\n",
       "\n",
       "    .dataframe thead th {\n",
       "        text-align: right;\n",
       "    }\n",
       "</style>\n",
       "<table border=\"1\" class=\"dataframe\">\n",
       "  <thead>\n",
       "    <tr style=\"text-align: right;\">\n",
       "      <th></th>\n",
       "      <th>date</th>\n",
       "      <th>qty</th>\n",
       "    </tr>\n",
       "  </thead>\n",
       "  <tbody>\n",
       "    <tr>\n",
       "      <th>1</th>\n",
       "      <td>2025-04-09</td>\n",
       "      <td>500</td>\n",
       "    </tr>\n",
       "  </tbody>\n",
       "</table>\n",
       "</div>"
      ],
      "text/plain": [
       "        date  qty\n",
       "1 2025-04-09  500"
      ]
     },
     "execution_count": 12,
     "metadata": {},
     "output_type": "execute_result"
    }
   ],
   "source": [
    "df[df['date'] == date_range[0]]"
   ]
  },
  {
   "cell_type": "code",
   "execution_count": 13,
   "id": "647bfcb5",
   "metadata": {},
   "outputs": [
    {
     "data": {
      "text/html": [
       "<div>\n",
       "<style scoped>\n",
       "    .dataframe tbody tr th:only-of-type {\n",
       "        vertical-align: middle;\n",
       "    }\n",
       "\n",
       "    .dataframe tbody tr th {\n",
       "        vertical-align: top;\n",
       "    }\n",
       "\n",
       "    .dataframe thead th {\n",
       "        text-align: right;\n",
       "    }\n",
       "</style>\n",
       "<table border=\"1\" class=\"dataframe\">\n",
       "  <thead>\n",
       "    <tr style=\"text-align: right;\">\n",
       "      <th></th>\n",
       "      <th>date</th>\n",
       "      <th>qty</th>\n",
       "    </tr>\n",
       "  </thead>\n",
       "  <tbody>\n",
       "    <tr>\n",
       "      <th>0</th>\n",
       "      <td>2025-04-09</td>\n",
       "      <td>100</td>\n",
       "    </tr>\n",
       "    <tr>\n",
       "      <th>1</th>\n",
       "      <td>2025-04-10</td>\n",
       "      <td>0</td>\n",
       "    </tr>\n",
       "    <tr>\n",
       "      <th>2</th>\n",
       "      <td>2025-04-11</td>\n",
       "      <td>300</td>\n",
       "    </tr>\n",
       "  </tbody>\n",
       "</table>\n",
       "</div>"
      ],
      "text/plain": [
       "        date  qty\n",
       "0 2025-04-09  100\n",
       "1 2025-04-10    0\n",
       "2 2025-04-11  300"
      ]
     },
     "execution_count": 13,
     "metadata": {},
     "output_type": "execute_result"
    }
   ],
   "source": [
    "# 만약 연속적인 날짜(3일)이 필요한데, 누락된 데이터가 있다면\n",
    "filled_empty = []\n",
    "df_empty = pd.DataFrame([\n",
    "    {'date' : '2025-4-9', 'qty':100},\n",
    "    {'date' : '2025-4-11', 'qty':300}\n",
    "])\n",
    "\n",
    "# 날짜 타입 변환\n",
    "df_empty['date'] = pd.to_datetime(df_empty['date'])\n",
    "\n",
    "# 기준일 에서 -1, -2 한 날짜, 연속된 날짜 3개\n",
    "date_range_empty = [datetime(2025, 4,9), datetime(2025, 4, 10), datetime(2025, 4, 11)]\n",
    "\n",
    "for date in date_range_empty :\n",
    "    row = df_empty[df_empty['date'] == date]\n",
    "    if row.empty :\n",
    "        filled_empty.append({'date' : date, \"qty\":0})\n",
    "    else :\n",
    "        filled_empty.append({'date' : date, \"qty\": int(row['qty'].values[0])})\n",
    "pd.DataFrame(filled_empty)"
   ]
  },
  {
   "cell_type": "code",
   "execution_count": 14,
   "id": "09c05bde",
   "metadata": {},
   "outputs": [
    {
     "data": {
      "text/html": [
       "<div>\n",
       "<style scoped>\n",
       "    .dataframe tbody tr th:only-of-type {\n",
       "        vertical-align: middle;\n",
       "    }\n",
       "\n",
       "    .dataframe tbody tr th {\n",
       "        vertical-align: top;\n",
       "    }\n",
       "\n",
       "    .dataframe thead th {\n",
       "        text-align: right;\n",
       "    }\n",
       "</style>\n",
       "<table border=\"1\" class=\"dataframe\">\n",
       "  <thead>\n",
       "    <tr style=\"text-align: right;\">\n",
       "      <th></th>\n",
       "      <th>date</th>\n",
       "      <th>qty</th>\n",
       "    </tr>\n",
       "  </thead>\n",
       "  <tbody>\n",
       "    <tr>\n",
       "      <th>0</th>\n",
       "      <td>2025-04-09</td>\n",
       "      <td>500</td>\n",
       "    </tr>\n",
       "    <tr>\n",
       "      <th>1</th>\n",
       "      <td>2025-04-10</td>\n",
       "      <td>200</td>\n",
       "    </tr>\n",
       "    <tr>\n",
       "      <th>2</th>\n",
       "      <td>2025-04-11</td>\n",
       "      <td>100</td>\n",
       "    </tr>\n",
       "  </tbody>\n",
       "</table>\n",
       "</div>"
      ],
      "text/plain": [
       "        date  qty\n",
       "0 2025-04-09  500\n",
       "1 2025-04-10  200\n",
       "2 2025-04-11  100"
      ]
     },
     "execution_count": 14,
     "metadata": {},
     "output_type": "execute_result"
    }
   ],
   "source": [
    "# LSTM 모델에 넣기 위한 날짜별 발주 수량 데이터를 정리\n",
    "# date_range에 해당하는 날짜 3일치에 대해 입력 데이터(df)에 해당 날짜가 없으면\n",
    "# -> 수량 0으로 채우고, 있으면 -> 해당 날짜의 수량을 넣는다\n",
    "# 날짜가 연속적이여야 하고, 누락된 날짜는 반드시 채워줘야 함 (0 또는 다른 값으로)\n",
    "\n",
    "filled = []\n",
    "for date in date_range :\n",
    "    row = df[df['date'] == date]\n",
    "    if row.empty :\n",
    "        filled.append({'date':date, \"qty\": 0})\n",
    "    else :\n",
    "        filled.append({'date':date, \"qty\": int(row['qty'].values[0])})\n",
    "pd.DataFrame(filled)"
   ]
  },
  {
   "cell_type": "code",
   "execution_count": 15,
   "id": "0beb2b0e",
   "metadata": {},
   "outputs": [
    {
     "data": {
      "text/html": [
       "<div>\n",
       "<style scoped>\n",
       "    .dataframe tbody tr th:only-of-type {\n",
       "        vertical-align: middle;\n",
       "    }\n",
       "\n",
       "    .dataframe tbody tr th {\n",
       "        vertical-align: top;\n",
       "    }\n",
       "\n",
       "    .dataframe thead th {\n",
       "        text-align: right;\n",
       "    }\n",
       "</style>\n",
       "<table border=\"1\" class=\"dataframe\">\n",
       "  <thead>\n",
       "    <tr style=\"text-align: right;\">\n",
       "      <th></th>\n",
       "      <th>date</th>\n",
       "      <th>qty</th>\n",
       "    </tr>\n",
       "  </thead>\n",
       "  <tbody>\n",
       "    <tr>\n",
       "      <th>0</th>\n",
       "      <td>2025-04-09</td>\n",
       "      <td>500</td>\n",
       "    </tr>\n",
       "    <tr>\n",
       "      <th>1</th>\n",
       "      <td>2025-04-10</td>\n",
       "      <td>200</td>\n",
       "    </tr>\n",
       "    <tr>\n",
       "      <th>2</th>\n",
       "      <td>2025-04-11</td>\n",
       "      <td>100</td>\n",
       "    </tr>\n",
       "  </tbody>\n",
       "</table>\n",
       "</div>"
      ],
      "text/plain": [
       "        date  qty\n",
       "0 2025-04-09  500\n",
       "1 2025-04-10  200\n",
       "2 2025-04-11  100"
      ]
     },
     "execution_count": 15,
     "metadata": {},
     "output_type": "execute_result"
    }
   ],
   "source": [
    "filled_df = pd.DataFrame(filled)\n",
    "filled_df"
   ]
  },
  {
   "cell_type": "code",
   "execution_count": 16,
   "id": "57f30980",
   "metadata": {},
   "outputs": [
    {
     "data": {
      "text/plain": [
       "array([500, 200, 100], dtype=int64)"
      ]
     },
     "execution_count": 16,
     "metadata": {},
     "output_type": "execute_result"
    }
   ],
   "source": [
    "qtys = filled_df['qty'].values\n",
    "qtys"
   ]
  },
  {
   "cell_type": "code",
   "execution_count": 17,
   "id": "99020204",
   "metadata": {},
   "outputs": [],
   "source": [
    "# LSTM에 입력할 시계열 데이터를 만든다\n",
    "# 3일치 발주 수량 데이터(qtys)를 다양한 수치로 변환해서 8개의 피처(feature)를 추출\n",
    "\n",
    "# LSTM 입력 형태 : (samples, time_steps=3, features=8)\n",
    "# -> 각 날짜마다 8가지 피처(숫자)를 만들어야 하므로 이 반복문에서 8개의 값 추출\n",
    "\n"
   ]
  },
  {
   "cell_type": "code",
   "execution_count": 18,
   "id": "9cec9017",
   "metadata": {},
   "outputs": [
    {
     "data": {
      "text/plain": [
       "3"
      ]
     },
     "execution_count": 18,
     "metadata": {},
     "output_type": "execute_result"
    }
   ],
   "source": [
    "len(qtys)"
   ]
  },
  {
   "cell_type": "code",
   "execution_count": 19,
   "id": "cf96b156",
   "metadata": {},
   "outputs": [
    {
     "data": {
      "text/plain": [
       "100"
      ]
     },
     "execution_count": 19,
     "metadata": {},
     "output_type": "execute_result"
    }
   ],
   "source": [
    "# 현재 날짜의 수량\n",
    "qtys[2]"
   ]
  },
  {
   "cell_type": "code",
   "execution_count": 20,
   "id": "32b30951",
   "metadata": {},
   "outputs": [
    {
     "data": {
      "text/plain": [
       "array([500, 200, 100], dtype=int64)"
      ]
     },
     "execution_count": 20,
     "metadata": {},
     "output_type": "execute_result"
    }
   ],
   "source": [
    "qtys[:2 +1] #qtys[:3] 처음부터 2번까지 가져온다"
   ]
  },
  {
   "cell_type": "code",
   "execution_count": 21,
   "id": "8b520eff",
   "metadata": {},
   "outputs": [
    {
     "data": {
      "text/plain": [
       "266.6666666666667"
      ]
     },
     "execution_count": 21,
     "metadata": {},
     "output_type": "execute_result"
    }
   ],
   "source": [
    "for i in range(len(qtys)):\n",
    "    mean_qty = np.mean(qtys[:i +1]) #지금까지 평균\n",
    "mean_qty"
   ]
  },
  {
   "cell_type": "code",
   "execution_count": 22,
   "id": "620139e2",
   "metadata": {},
   "outputs": [
    {
     "data": {
      "text/plain": [
       "266.6666666666667"
      ]
     },
     "execution_count": 22,
     "metadata": {},
     "output_type": "execute_result"
    }
   ],
   "source": [
    "# 평균 수량 (누적 평균)\n",
    "# i(3)이 0보다 크면 qtys 배열을 가져와 평균값을 내고, 그렇지 않으면 qtys[i]값을 가져온다\n",
    "mean_qty = np.mean(qtys[:3 +1]) if 3 > 0 else qtys[3] \n",
    "mean_qty\n",
    "# 삼항 연산자 A if 조건 else B\n",
    "# 조건이 True 이면 A를 실행, 조건이 False 이면 B를 실행\n",
    "\n"
   ]
  },
  {
   "cell_type": "code",
   "execution_count": 23,
   "id": "9a76fba6",
   "metadata": {},
   "outputs": [],
   "source": [
    "# 증감량 (직전일 대비 차이)\n",
    "diff = qtys[i] - qtys[i-1] if i>0 else 0\n",
    "\n",
    "# 이전날과의 차이, 첫날은 비교 대상 없으므로 0"
   ]
  },
  {
   "cell_type": "code",
   "execution_count": 24,
   "id": "ca2e4f61",
   "metadata": {},
   "outputs": [],
   "source": [
    "# 누적 수량\n",
    "cumulative = np.sum(qtys[:i + 1])\n",
    "\n",
    "# i=2 이면 qty[0] + qty[1] + qty[2]\n",
    "# 현재까지 누적 발주량"
   ]
  },
  {
   "cell_type": "code",
   "execution_count": 25,
   "id": "98bd301a",
   "metadata": {},
   "outputs": [
    {
     "data": {
      "text/plain": [
       "1.8749999296875026"
      ]
     },
     "execution_count": 25,
     "metadata": {},
     "output_type": "execute_result"
    }
   ],
   "source": [
    "# 현재 수량 / 평균\n",
    "\n",
    "qtys[0] / (mean_qty + 1e-5)\n",
    "\n",
    "# 0으로 나누는 오류를 피하기 위해 1e-5를 넣어준다 /나누기할때 => 오류를 피하기 위한 안전장치\n",
    "# 어떤 수를 0으로 나누면 ZeroDeivisionError 발생"
   ]
  },
  {
   "cell_type": "code",
   "execution_count": 26,
   "id": "fdd91c2b",
   "metadata": {},
   "outputs": [
    {
     "data": {
      "text/plain": [
       "[[500, 500, 0, 500, 1, 0.0, 6.2166061010848646, 0.9999999800000005],\n",
       " [200,\n",
       "  350.0,\n",
       "  -300,\n",
       "  700,\n",
       "  1,\n",
       "  0.3333333333333333,\n",
       "  5.303304908059076,\n",
       "  0.5714285551020413],\n",
       " [100,\n",
       "  266.6666666666667,\n",
       "  -100,\n",
       "  800,\n",
       "  1,\n",
       "  0.6666666666666666,\n",
       "  4.61512051684126,\n",
       "  0.37499998593750056]]"
      ]
     },
     "execution_count": 26,
     "metadata": {},
     "output_type": "execute_result"
    }
   ],
   "source": [
    "# 최종 피처 벡터 구성(8개)\n",
    "features = []\n",
    "for i in range(len(qtys)) :\n",
    "    qty = qtys[i]\n",
    "    mean_qty = np.mean(qtys[:i + 1]) if i>0 else qty\n",
    "    diff = qtys[i] - qtys[i-1] if i>0 else 0\n",
    "    cumulative = np.sum(qtys[:i +1])\n",
    "    features.append([\n",
    "        qty, #현재 수량\n",
    "        mean_qty, #평균 수량\n",
    "        diff, #증감량\n",
    "        cumulative, #누적 수량\n",
    "        1 if qty>0 else 0, # 발주 여부\n",
    "        i/ lookback_days, # 상대 시간 위치(0.0, 0.33, 0.66) # lookback_days=3\n",
    "        np.log1p(qty), #로그 스케일 수량(log(1+qty))\n",
    "        qty / (mean_qty + 1e-5) # 현재수량 / 평균(비율)\n",
    "    ])\n",
    "features"
   ]
  },
  {
   "cell_type": "code",
   "execution_count": 27,
   "id": "0d67210b",
   "metadata": {},
   "outputs": [
    {
     "data": {
      "text/plain": [
       "array([[[ 5.00000000e+02,  5.00000000e+02,  0.00000000e+00,\n",
       "          5.00000000e+02,  1.00000000e+00,  0.00000000e+00,\n",
       "          6.21660610e+00,  9.99999980e-01],\n",
       "        [ 2.00000000e+02,  3.50000000e+02, -3.00000000e+02,\n",
       "          7.00000000e+02,  1.00000000e+00,  3.33333333e-01,\n",
       "          5.30330491e+00,  5.71428555e-01],\n",
       "        [ 1.00000000e+02,  2.66666667e+02, -1.00000000e+02,\n",
       "          8.00000000e+02,  1.00000000e+00,  6.66666667e-01,\n",
       "          4.61512052e+00,  3.74999986e-01]]])"
      ]
     },
     "execution_count": 27,
     "metadata": {},
     "output_type": "execute_result"
    }
   ],
   "source": [
    "np.array(features).reshape(1,3,8)\n",
    "\n",
    "# reshape(1, 3, 8) : 1개의 샘플, 3일치 데이터, 8개의 피처로 모델에 입력하기"
   ]
  },
  {
   "cell_type": "code",
   "execution_count": 28,
   "id": "521c290b",
   "metadata": {},
   "outputs": [],
   "source": [
    "# 지금까지 연습한 것을 메서드로 만듬\n",
    "def convert_user_input_to_model_input(orders):\n",
    "    df = pd.DataFrame(orders)\n",
    "    df['date'] = pd.to_datetime(df['date'])\n",
    "    df = df.sort_values(by='date')\n",
    "\n",
    "    latest_date = df['date'].max()\n",
    "    lookback_days = 3 \n",
    "    date_range = [latest_date - timedelta(days=i) for i in range(lookback_days -1,-1,-1)]\n",
    "\n",
    "    filled = []\n",
    "    for date in date_range :\n",
    "        row = df[df['date'] == date]\n",
    "        if row.empty :\n",
    "            filled.append({'date':date, \"qty\": 0})\n",
    "        else :\n",
    "            filled.append({'date':date, \"qty\": int(row['qty'].values[0])})\n",
    "    filled_df = pd.DataFrame(filled)\n",
    "    qtys = filled_df['qty'].values\n",
    "\n",
    "    features = []\n",
    "    for i in range(len(qtys)) :\n",
    "        qty = qtys[i]\n",
    "        mean_qty = np.mean(qtys[:i + 1]) if i>0 else qty\n",
    "        diff = qtys[i] - qtys[i-1] if i>0 else 0\n",
    "        cumulative = np.sum(qtys[:i +1])\n",
    "        features.append([\n",
    "            qty, #현재 수량\n",
    "            mean_qty, #평균 수량\n",
    "            diff, #증감량\n",
    "            cumulative, #누적 수량\n",
    "            1 if qty>0 else 0, # 발주 여부\n",
    "            i/ lookback_days, # 상대 시간 위치(0.0, 0.33, 0.66) # lookback_days=3\n",
    "            np.log1p(qty), #로그 스케일 수량(log(1+qty))\n",
    "            qty / (mean_qty + 1e-5) # 현재수량 / 평균(비율)\n",
    "        ])\n",
    "\n",
    "    return np.array(features).reshape(1,3,8)\n",
    "    "
   ]
  },
  {
   "cell_type": "markdown",
   "id": "8e76de1a",
   "metadata": {},
   "source": [
    "### 변환 + 예측 실행"
   ]
  },
  {
   "cell_type": "code",
   "execution_count": 29,
   "id": "f5f9cfb3",
   "metadata": {},
   "outputs": [
    {
     "name": "stdout",
     "output_type": "stream",
     "text": [
      "LSTM 입력 형태 : (1, 3, 8)\n"
     ]
    }
   ],
   "source": [
    "model_input = convert_user_input_to_model_input(orders)\n",
    "print(\"LSTM 입력 형태 :\", model_input.shape)"
   ]
  },
  {
   "cell_type": "code",
   "execution_count": 30,
   "id": "932a9866",
   "metadata": {},
   "outputs": [
    {
     "name": "stdout",
     "output_type": "stream",
     "text": [
      "1/1 [==============================] - 1s 604ms/step\n",
      "🎀 예측된 3일 후 발주 수량 : 1022.59개\n"
     ]
    }
   ],
   "source": [
    "# 예측\n",
    "y_pred = model.predict(model_input).flatten()[0]\n",
    "print(f\"🎀 예측된 3일 후 발주 수량 : {y_pred:.2f}개\")\n",
    "\n",
    "# 이모지 : 윈도우 키 + .\n",
    "# f 는 f-string (formatted string literal)의 표시\n",
    "# 문자열 포맷팅 방식으로, 문자열 안에 변수나 표현식을 {} 중괄호로 직접 넣을 수 있다."
   ]
  },
  {
   "cell_type": "code",
   "execution_count": null,
   "id": "d12ec96a",
   "metadata": {},
   "outputs": [],
   "source": []
  }
 ],
 "metadata": {
  "kernelspec": {
   "display_name": "Python 3",
   "language": "python",
   "name": "python3"
  },
  "language_info": {
   "codemirror_mode": {
    "name": "ipython",
    "version": 3
   },
   "file_extension": ".py",
   "mimetype": "text/x-python",
   "name": "python",
   "nbconvert_exporter": "python",
   "pygments_lexer": "ipython3",
   "version": "3.11.9"
  }
 },
 "nbformat": 4,
 "nbformat_minor": 5
}
